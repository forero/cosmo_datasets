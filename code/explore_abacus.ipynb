{
 "cells": [
  {
   "cell_type": "code",
   "execution_count": 1,
   "metadata": {},
   "outputs": [],
   "source": [
    "import abacus_cosmos.Halos as ach\n",
    "from astropy.table import Table\n",
    "import matplotlib.pyplot as plt\n",
    "import astropy.cosmology as apc\n",
    "import os\n",
    "import numpy as np\n",
    "import glob\n",
    "from astropy import constants as const\n",
    "from collections import Counter\n",
    "%matplotlib inline"
   ]
  },
  {
   "cell_type": "code",
   "execution_count": 2,
   "metadata": {},
   "outputs": [],
   "source": [
    "dtype=[('BoxID','i8'), ('hubble', 'f8'), ('omega_de', 'f8'),\n",
    "      ('omega_m', 'f8'), ('n_s', 'f8'), ('sigma_8', 'f8'), ('w_0', 'f8')]\n",
    "cosmo_data = np.loadtxt(\"../abacus/box_cosmo_params.dat\", dtype=dtype)"
   ]
  },
  {
   "cell_type": "code",
   "execution_count": 27,
   "metadata": {},
   "outputs": [],
   "source": [
    "def get_sphere(box_id=0, RSD=False, standard_cosmology=True, redshift='z0.100', vcirc_max_limit=300):\n",
    "    main_path = \"/Users/forero/data/AbacusCosmos/\"\n",
    "    \n",
    "    if standard_cosmology:\n",
    "        halo_path = \"AbacusCosmos_720box_planck_00_{:02d}_FoF_halos_{}\".format(box_id, redshift)\n",
    "    else:\n",
    "        halo_path = \"AbacusCosmos_720box_{:02d}_FoF_halos_{}\".format(box_id, redshift)\n",
    "\n",
    "    halo_data = Table(ach.read_halos_FoF(os.path.join(main_path,halo_path)))\n",
    "\n",
    "    r_limit = 300\n",
    "    r_limit_in = 250\n",
    "    #hubble = cosmo_data['hubble'][box_id]/100\n",
    "       \n",
    "    halo_data['r_comov'] = np.sqrt(np.sum(halo_data['pos']**2, axis=1))\n",
    "    halo_data['v_radial'] = np.sum(halo_data['pos']*halo_data['vel'], axis=1)/halo_data['r_comov']\n",
    "\n",
    "    if RSD:\n",
    "        halo_data['r'] = halo_data['r_comov'] + halo_data['v_radial']/100\n",
    "    else:\n",
    "        halo_data['r'] = halo_data['r_comov'].copy()\n",
    "        \n",
    "    #halo_data['r'] = halo_data['r']/hubble\n",
    "\n",
    "    ii = (halo_data['r']<r_limit) & (halo_data['vcirc_max']>vcirc_max_limit) & (halo_data['r']>0)\n",
    "    print(box_id, 'sphere', np.count_nonzero(ii))\n",
    "    \n",
    "    if RSD:\n",
    "        halo_data['pos'][:,0] = halo_data['pos'][:,0] + (halo_data['pos'][:,0]/halo_data['r_comov'])*(halo_data['v_radial']/100)\n",
    "        halo_data['pos'][:,1] = halo_data['pos'][:,1] + (halo_data['pos'][:,1]/halo_data['r_comov'])*(halo_data['v_radial']/100)\n",
    "        halo_data['pos'][:,2] = halo_data['pos'][:,2] + (halo_data['pos'][:,2]/halo_data['r_comov'])*(halo_data['v_radial']/100)\n",
    "\n",
    "        \n",
    "    sphere_data = halo_data['pos'][ii]\n",
    "    vmax_data = halo_data\n",
    "    n_points = len(sphere_data)\n",
    "    ii_shell = (halo_data['r']>r_limit_in) & (halo_data['r']<r_limit) & (halo_data['vcirc_max']>vcirc_max_limit) \n",
    "    shell_data = halo_data['pos'][ii_shell]\n",
    "    print(box_id, 'shell', np.count_nonzero(ii_shell))\n",
    "\n",
    "    \n",
    "    random_pos = sphere_data.copy()\n",
    "    phi  = np.random.random(n_points)* np.pi * 2.0\n",
    "    theta = np.arccos(2.0*(np.random.random(n_points)-0.5))\n",
    "    r = np.sqrt(np.sum(sphere_data**2, axis=1))\n",
    "    random_pos[:,0] = r * np.cos(phi) * np.sin(theta)\n",
    "    random_pos[:,1] = r * np.sin(phi) * np.sin(theta)\n",
    "    random_pos[:,2] = r * np.cos(theta)\n",
    "    \n",
    "    if RSD:\n",
    "        rsd_name = 'rsd'\n",
    "    else:\n",
    "        rsd_name = 'norsd'\n",
    "        \n",
    "    if standard_cosmology:\n",
    "        cosmo_name = 'stdcosmo'\n",
    "    else:\n",
    "        cosmo_name = 'nonstdcosmo'\n",
    "    \n",
    "    shell_filename = \"../abacus/shell_{:02d}_{}_{}_{}_vcmax_{}.dat\".format(box_id, cosmo_name, rsd_name, redshift, np.int(vcirc_max_limit))\n",
    "    output_filename = \"../abacus/sphere_{:02d}_{}_{}_{}_vcmax_{}.dat\".format(box_id, cosmo_name, rsd_name, redshift, np.int(vcirc_max_limit))\n",
    "    random_filename = \"../abacus/random_sphere_{:02d}_{}_{}_{}_vcmax_{}.dat\".format(box_id, cosmo_name, rsd_name, redshift, np.int(vcirc_max_limit))\n",
    "\n",
    "    np.savetxt(output_filename, sphere_data)\n",
    "    np.savetxt(random_filename, random_pos)\n",
    "    np.savetxt(shell_filename, shell_data)\n",
    "    print('writing to', output_filename)\n",
    "    print('writing to', random_filename)\n",
    "    print('writing to', shell_filename)\n",
    "\n",
    "    del halo_data\n",
    "    del sphere_data\n",
    "    del random_pos"
   ]
  },
  {
   "cell_type": "code",
   "execution_count": 29,
   "metadata": {},
   "outputs": [],
   "source": [
    "for i in range(0): #20\n",
    "    get_sphere(box_id=i, RSD=True, standard_cosmology=True, redshift='z0.100')\n",
    "    get_sphere(box_id=i, RSD=False, standard_cosmology=True, redshift='z0.100')"
   ]
  },
  {
   "cell_type": "code",
   "execution_count": 30,
   "metadata": {},
   "outputs": [],
   "source": [
    "for i in range(0): #40\n",
    "    get_sphere(box_id=i, RSD=True, standard_cosmology=False, redshift='z0.100')\n",
    "    get_sphere(box_id=i, RSD=False, standard_cosmology=False, redshift='z0.100')"
   ]
  },
  {
   "cell_type": "code",
   "execution_count": 31,
   "metadata": {},
   "outputs": [],
   "source": [
    "for z in range(0): #['z0.300', 'z0.500', 'z0.700', 'z1.000', 'z1.500']:\n",
    "    get_sphere(box_id=0, RSD=True, standard_cosmology=True, redshift=z)\n",
    "    get_sphere(box_id=0, RSD=False, standard_cosmology=True, redshift=z)"
   ]
  },
  {
   "cell_type": "code",
   "execution_count": 33,
   "metadata": {},
   "outputs": [
    {
     "name": "stdout",
     "output_type": "stream",
     "text": [
      "0 sphere 83216\n",
      "0 shell 34802\n",
      "writing to ../abacus/sphere_00_stdcosmo_norsd_z0.100_vcmax_300.dat\n",
      "writing to ../abacus/random_sphere_00_stdcosmo_norsd_z0.100_vcmax_300.dat\n",
      "writing to ../abacus/shell_00_stdcosmo_norsd_z0.100_vcmax_300.dat\n",
      "0 sphere 51520\n",
      "0 shell 21513\n",
      "writing to ../abacus/sphere_00_stdcosmo_norsd_z0.100_vcmax_350.dat\n",
      "writing to ../abacus/random_sphere_00_stdcosmo_norsd_z0.100_vcmax_350.dat\n",
      "writing to ../abacus/shell_00_stdcosmo_norsd_z0.100_vcmax_350.dat\n",
      "0 sphere 33581\n",
      "0 shell 13968\n",
      "writing to ../abacus/sphere_00_stdcosmo_norsd_z0.100_vcmax_400.dat\n",
      "writing to ../abacus/random_sphere_00_stdcosmo_norsd_z0.100_vcmax_400.dat\n",
      "writing to ../abacus/shell_00_stdcosmo_norsd_z0.100_vcmax_400.dat\n",
      "0 sphere 22468\n",
      "0 shell 9343\n",
      "writing to ../abacus/sphere_00_stdcosmo_norsd_z0.100_vcmax_450.dat\n",
      "writing to ../abacus/random_sphere_00_stdcosmo_norsd_z0.100_vcmax_450.dat\n",
      "writing to ../abacus/shell_00_stdcosmo_norsd_z0.100_vcmax_450.dat\n",
      "0 sphere 15428\n",
      "0 shell 6413\n",
      "writing to ../abacus/sphere_00_stdcosmo_norsd_z0.100_vcmax_500.dat\n",
      "writing to ../abacus/random_sphere_00_stdcosmo_norsd_z0.100_vcmax_500.dat\n",
      "writing to ../abacus/shell_00_stdcosmo_norsd_z0.100_vcmax_500.dat\n"
     ]
    }
   ],
   "source": [
    "for i in [300,350,400,450,500]: \n",
    "    get_sphere(box_id=0, RSD=False, standard_cosmology=True, redshift='z0.100', vcirc_max_limit=i)"
   ]
  }
 ],
 "metadata": {
  "kernelspec": {
   "display_name": "Python 3",
   "language": "python",
   "name": "python3"
  },
  "language_info": {
   "codemirror_mode": {
    "name": "ipython",
    "version": 3
   },
   "file_extension": ".py",
   "mimetype": "text/x-python",
   "name": "python",
   "nbconvert_exporter": "python",
   "pygments_lexer": "ipython3",
   "version": "3.6.8"
  }
 },
 "nbformat": 4,
 "nbformat_minor": 2
}
