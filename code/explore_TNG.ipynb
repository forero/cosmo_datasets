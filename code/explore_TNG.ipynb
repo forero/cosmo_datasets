{
 "cells": [
  {
   "cell_type": "code",
   "execution_count": 1,
   "metadata": {},
   "outputs": [],
   "source": [
    "import h5py\n",
    "import illustris_python.groupcat as gc\n",
    "from sklearn.neighbors import NearestNeighbors\n",
    "import matplotlib.pyplot as plt\n",
    "import numpy as np\n",
    "%matplotlib inline"
   ]
  },
  {
   "cell_type": "code",
   "execution_count": 2,
   "metadata": {},
   "outputs": [
    {
     "name": "stdout",
     "output_type": "stream",
     "text": [
      "205000.0\n"
     ]
    }
   ],
   "source": [
    "basePath = \"/Users/forero/Illustris_data/TNG300-1/\"\n",
    "\n",
    "\n",
    "subhalo_fields = ['SubhaloMass','SubhaloSFRinRad', 'SubhaloPos', 'SubhaloVmax','SubhaloMassType',\n",
    "                  'SubhaloVel', 'SubhaloParent', 'SubhaloGrNr', 'SubhaloStellarPhotometrics']\n",
    "all_subhalos = gc.loadSubhalos(basePath,99, fields=subhalo_fields)\n",
    "\n",
    "\n",
    "halo_fields = ['GroupFirstSub', 'Group_M_Crit200', 'Group_R_Crit200', 'Group_M_Mean200',\n",
    "               'GroupNsubs', 'GroupPos', 'GroupVel', 'GroupFirstSub', 'GroupMassType']\n",
    "halos = gc.loadHalos(basePath,99, fields=halo_fields)\n",
    "\n",
    "header = gc.loadHeader(basePath,99)\n",
    "\n",
    "BoxSize = header['BoxSize']\n",
    "hubble = header['HubbleParam']\n",
    "print(BoxSize)\n",
    "\n",
    "all_subhalos['stellar_mass'] = all_subhalos['SubhaloMassType'][:,4]"
   ]
  },
  {
   "cell_type": "code",
   "execution_count": 9,
   "metadata": {},
   "outputs": [],
   "source": [
    "log_mass = np.log10(halos['Group_M_Crit200']+1E-5)+10.0"
   ]
  },
  {
   "cell_type": "code",
   "execution_count": 34,
   "metadata": {},
   "outputs": [
    {
     "name": "stdout",
     "output_type": "stream",
     "text": [
      "0 133834\n",
      "1 52542\n",
      "2 18453\n",
      "3 5398\n",
      "4 1768\n",
      "5 601\n",
      "6 138\n",
      "7 14\n"
     ]
    }
   ],
   "source": [
    "delta_log_mass = 0.5\n",
    "loghalo_mass_range = np.arange(11.0, 15.0, delta_log_mass)\n",
    "mean_radius = loghalo_mass_range.copy()\n",
    "\n",
    "for i, min_log_mass in enumerate(loghalo_mass_range):\n",
    "    ii = (log_mass > min_log_mass) & (log_mass < (min_log_mass + delta_log_mass))\n",
    "    mean_radius[i] = np.mean(halos['Group_R_Crit200'][ii])\n",
    "    print(i, np.count_nonzero(ii))"
   ]
  },
  {
   "cell_type": "code",
   "execution_count": 35,
   "metadata": {},
   "outputs": [
    {
     "data": {
      "text/plain": [
       "Text(0,0.5,'$\\\\log_{10} R_{h}/{\\\\rm kpc} h^{-1}$')"
      ]
     },
     "execution_count": 35,
     "metadata": {},
     "output_type": "execute_result"
    },
    {
     "data": {
      "image/png": "[encoded data removed]",
      "text/plain": [
       "<Figure size 432x288 with 1 Axes>"
      ]
     },
     "metadata": {},
     "output_type": "display_data"
    }
   ],
   "source": [
    "plt.scatter(loghalo_mass_range, np.log10(mean_radius))\n",
    "plt.xlabel(r\"$\\log_{10} M_{h}/10^{10} h^{-1}$\")\n",
    "plt.ylabel(r\"$\\log_{10} R_{h}/{\\rm kpc} h^{-1}$\")"
   ]
  },
  {
   "cell_type": "code",
   "execution_count": 37,
   "metadata": {},
   "outputs": [
    {
     "data": {
      "text/plain": [
       "array([ 1.11625696,  1.63970351,  2.38196151,  3.50856669,  5.15477134,\n",
       "        7.54026524, 10.90183384, 15.70508384])"
      ]
     },
     "execution_count": 37,
     "metadata": {},
     "output_type": "execute_result"
    }
   ],
   "source": [
    "(5*mean_radius)/(BoxSize/512) # number of cells to be used in the cosmic web smoothing"
   ]
  },
  {
   "cell_type": "code",
   "execution_count": null,
   "metadata": {},
   "outputs": [],
   "source": []
  }
 ],
 "metadata": {
  "kernelspec": {
   "display_name": "Python 3",
   "language": "python",
   "name": "python3"
  },
  "language_info": {
   "codemirror_mode": {
    "name": "ipython",
    "version": 3
   },
   "file_extension": ".py",
   "mimetype": "text/x-python",
   "name": "python",
   "nbconvert_exporter": "python",
   "pygments_lexer": "ipython3",
   "version": "3.6.8"
  }
 },
 "nbformat": 4,
 "nbformat_minor": 2
}
